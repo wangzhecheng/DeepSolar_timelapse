{
 "cells": [
  {
   "cell_type": "code",
   "execution_count": 1,
   "metadata": {},
   "outputs": [],
   "source": [
    "from __future__ import print_function\n",
    "from __future__ import division\n",
    "import torch\n",
    "import torch.nn as nn\n",
    "import torch.optim as optim\n",
    "from torch.utils.data import Dataset, DataLoader\n",
    "import torchvision\n",
    "from torchvision import datasets, models, transforms, utils\n",
    "\n",
    "import numpy as np\n",
    "import json\n",
    "import pandas as pd\n",
    "import pickle\n",
    "import matplotlib.pyplot as plt\n",
    "import cv2\n",
    "from PIL import Image\n",
    "import time\n",
    "import os\n",
    "from os.path import join, exists\n",
    "import copy\n",
    "import random\n",
    "import re\n",
    "\n",
    "from tqdm import tqdm\n",
    "\n",
    "from torch.nn import functional as F\n",
    "import torchvision.transforms.functional as TF\n",
    "\n",
    "from torchvision.models import Inception3\n",
    "from mk_cam import *\n",
    "from mk_mask import *\n",
    "from naive_method import *"
   ]
  },
  {
   "cell_type": "markdown",
   "metadata": {},
   "source": [
    "# Create one to one reference mapping"
   ]
  },
  {
   "cell_type": "code",
   "execution_count": 12,
   "metadata": {},
   "outputs": [],
   "source": [
    "with open('/home/ubuntu/projects/data_preparation/reference_mapping/reference_mapping_LR_1.pickle', 'rb') as f:\n",
    "    reference_mapping = pickle.load(f)"
   ]
  },
  {
   "cell_type": "code",
   "execution_count": 37,
   "metadata": {
    "scrolled": true
   },
   "outputs": [],
   "source": [
    "correction = {'6083_381069_2010': '6083_381069_2007', '8031_213465_2012': '8031_213465_2011', \n",
    "             '9003_225995_2012': '9003_225995_2006', '34029_34700_2016': '34029_34700_2010'}\n",
    "original_dir = '/home/ubuntu/projects/data/deepsolar2/labeled1116'\n",
    "reference_mapping_single = {}\n",
    "for target_path in reference_mapping:\n",
    "    folder = target_path.split('/')[-1][:-11]\n",
    "    if not folder in os.listdir(original_dir):\n",
    "        folder = correction[folder]\n",
    "        \n",
    "    with open(join(original_dir, folder, 'img_info.txt'), 'r') as f:\n",
    "        lr_images = f.readlines()\n",
    "    lr_images = set([x[:-1] for x in lr_images])\n",
    "    \n",
    "    ref_path_HR_list = []\n",
    "    for ref_path in sorted(reference_mapping[target_path]):\n",
    "        if ref_path.split('/')[-1][-10:] not in lr_images:\n",
    "            ref_path_HR_list.append(ref_path)\n",
    "    reference_mapping_single[target_path] = [ref_path_HR_list[0]]"
   ]
  },
  {
   "cell_type": "code",
   "execution_count": 39,
   "metadata": {},
   "outputs": [],
   "source": [
    "with open('/home/ubuntu/projects/data_preparation/reference_mapping/reference_mapping_LR_1_single.pickle', 'wb') as f:\n",
    "    pickle.dump(reference_mapping_single, f)"
   ]
  },
  {
   "cell_type": "code",
   "execution_count": 40,
   "metadata": {},
   "outputs": [],
   "source": [
    "with open('/home/ubuntu/projects/data_preparation/reference_mapping/reference_mapping_LR_2.pickle', 'rb') as f:\n",
    "    reference_mapping = pickle.load(f)"
   ]
  },
  {
   "cell_type": "code",
   "execution_count": 59,
   "metadata": {},
   "outputs": [],
   "source": [
    "correction = {'48453_473659_2015': '48453_473659_2014'}\n",
    "original_dir = '/home/ubuntu/projects/data/deepsolar2/labeled1206'\n",
    "reference_mapping_single = {}\n",
    "for target_path in reference_mapping:\n",
    "    folder = target_path.split('/')[-1][:-11]\n",
    "    if not folder in os.listdir(original_dir):\n",
    "        folder = correction[folder]\n",
    "    \n",
    "    with open(join(original_dir, folder, 'img_info.txt'), 'r') as f:\n",
    "        lr_images = f.readlines()\n",
    "    lr_images = set([x[:-1] for x in lr_images])\n",
    "    \n",
    "    ref_path_HR_list = []\n",
    "    for ref_path in sorted(reference_mapping[target_path]):\n",
    "        if ref_path.split('/')[-1][-10:] not in lr_images:\n",
    "            ref_path_HR_list.append(ref_path)\n",
    "    if len(ref_path_HR_list) == 0:\n",
    "        reference_mapping_single[target_path] = [reference_mapping[target_path][0]]\n",
    "    else:\n",
    "        reference_mapping_single[target_path] = [ref_path_HR_list[0]]"
   ]
  },
  {
   "cell_type": "code",
   "execution_count": 61,
   "metadata": {},
   "outputs": [],
   "source": [
    "with open('/home/ubuntu/projects/data_preparation/reference_mapping/reference_mapping_LR_2_single.pickle', 'wb') as f:\n",
    "    pickle.dump(reference_mapping_single, f)"
   ]
  },
  {
   "cell_type": "markdown",
   "metadata": {},
   "source": [
    "# Modify reference mapping"
   ]
  },
  {
   "cell_type": "code",
   "execution_count": 154,
   "metadata": {},
   "outputs": [],
   "source": [
    "with open('/home/ubuntu/projects/data_preparation/reference_mapping/reference_mapping_LR_1_single.pickle', 'rb') as f:\n",
    "    reference_mapping = pickle.load(f)\n",
    "reference_mapping_new = {}\n",
    "correction = {'6083_381069_2010': '6083_381069_2007', '8031_213465_2012': '8031_213465_2011', \n",
    "             '9003_225995_2012': '9003_225995_2006', '34029_34700_2016': '34029_34700_2010'}\n",
    "# correction = {'48453_473659_2015': '48453_473659_2014'}\n",
    "for target_path in reference_mapping:\n",
    "    folder = target_path.split('/')[-1][:-11]\n",
    "    new_ref_list = []\n",
    "    for ref_path in reference_mapping[target_path]:\n",
    "        folder_ref = ref_path.split('/')[-1][:-11]\n",
    "        if folder_ref in correction:\n",
    "            ref_path = ref_path.replace(folder_ref, correction[folder_ref])\n",
    "        new_ref_list.append(ref_path)\n",
    "    if folder in correction:\n",
    "        target_path = target_path.replace(folder, correction[folder])\n",
    "    reference_mapping_new[target_path] = new_ref_list"
   ]
  },
  {
   "cell_type": "code",
   "execution_count": 155,
   "metadata": {},
   "outputs": [],
   "source": [
    "with open('/home/ubuntu/projects/data_preparation/reference_mapping/reference_mapping_LR_1_single.pickle', 'wb') as f:\n",
    "    pickle.dump(reference_mapping_new, f)"
   ]
  },
  {
   "cell_type": "code",
   "execution_count": 156,
   "metadata": {},
   "outputs": [],
   "source": [
    "with open('/home/ubuntu/projects/data_preparation/reference_mapping/reference_mapping_LR_1.pickle', 'rb') as f:\n",
    "    reference_mapping = pickle.load(f)\n",
    "reference_mapping_new = {}\n",
    "correction = {'6083_381069_2010': '6083_381069_2007', '8031_213465_2012': '8031_213465_2011', \n",
    "             '9003_225995_2012': '9003_225995_2006', '34029_34700_2016': '34029_34700_2010'}\n",
    "# correction = {'48453_473659_2015': '48453_473659_2014'}\n",
    "for target_path in reference_mapping:\n",
    "    folder = target_path.split('/')[-1][:-11]\n",
    "    new_ref_list = []\n",
    "    for ref_path in reference_mapping[target_path]:\n",
    "        folder_ref = ref_path.split('/')[-1][:-11]\n",
    "        if folder_ref in correction:\n",
    "            ref_path = ref_path.replace(folder_ref, correction[folder_ref])\n",
    "        new_ref_list.append(ref_path)\n",
    "    if folder in correction:\n",
    "        target_path = target_path.replace(folder, correction[folder])\n",
    "    reference_mapping_new[target_path] = new_ref_list"
   ]
  },
  {
   "cell_type": "code",
   "execution_count": 157,
   "metadata": {},
   "outputs": [],
   "source": [
    "with open('/home/ubuntu/projects/data_preparation/reference_mapping/reference_mapping_LR_1.pickle', 'wb') as f:\n",
    "    pickle.dump(reference_mapping_new, f)"
   ]
  },
  {
   "cell_type": "markdown",
   "metadata": {},
   "source": [
    "# Binarize"
   ]
  },
  {
   "cell_type": "code",
   "execution_count": 144,
   "metadata": {},
   "outputs": [
    {
     "name": "stdout",
     "output_type": "stream",
     "text": [
      "Loaded existing model parameters from: /home/ubuntu/projects/historical_solar/checkpoint/deepsolar_seg_pretrained.pth\n"
     ]
    }
   ],
   "source": [
    "bi_trans = NaiveMethod()"
   ]
  },
  {
   "cell_type": "code",
   "execution_count": 166,
   "metadata": {},
   "outputs": [],
   "source": [
    "with open('/home/ubuntu/projects/data_preparation/reference_mapping/reference_mapping_LR_2_single.pickle', 'rb') as f:\n",
    "    reference_mapping = pickle.load(f)\n",
    "data_dir = '/home/ubuntu/projects/data/deepsolar2/cleaned/LR_2'\n",
    "bi_data_dir = '/home/ubuntu/projects/data/deepsolar2/cleaned/LR_2_binary'"
   ]
  },
  {
   "cell_type": "code",
   "execution_count": 167,
   "metadata": {},
   "outputs": [],
   "source": [
    "for x in ['train', 'val', 'test']:\n",
    "    if not exists(join(bi_data_dir, x)):\n",
    "        os.mkdir(join(bi_data_dir, x))\n",
    "    for c in ['0', '1', 'ref']:\n",
    "        if not exists(join(bi_data_dir, x, c)):\n",
    "            os.mkdir(join(bi_data_dir, x, c))"
   ]
  },
  {
   "cell_type": "code",
   "execution_count": 168,
   "metadata": {},
   "outputs": [
    {
     "name": "stderr",
     "output_type": "stream",
     "text": [
      "100%|██████████| 7879/7879 [00:00<00:00, 177201.94it/s]"
     ]
    },
    {
     "name": "stdout",
     "output_type": "stream",
     "text": [
      "6469\n"
     ]
    },
    {
     "name": "stderr",
     "output_type": "stream",
     "text": [
      "\n"
     ]
    }
   ],
   "source": [
    "count = 0\n",
    "for target_path in tqdm(reference_mapping):\n",
    "    if exists(join(data_dir, target_path)):\n",
    "        count += 1\n",
    "print(count)"
   ]
  },
  {
   "cell_type": "code",
   "execution_count": 169,
   "metadata": {},
   "outputs": [
    {
     "name": "stderr",
     "output_type": "stream",
     "text": [
      "100%|██████████| 7879/7879 [22:31<00:00,  5.07it/s]\n"
     ]
    }
   ],
   "source": [
    "for target_path in tqdm(reference_mapping):\n",
    "    if not exists(join(data_dir, target_path)):\n",
    "        continue\n",
    "    ref_path = reference_mapping[target_path][0]\n",
    "    ref_bi, large_mask = bi_trans.perform_extract(join(data_dir, ref_path), is_ref=1)\n",
    "    tar_bi = bi_trans.perform_extract(join(data_dir, target_path), is_ref=0, large_mask=large_mask)\n",
    "    if not exists(join(bi_data_dir, ref_path)):\n",
    "        cv2.imwrite(join(bi_data_dir, ref_path), ref_bi)\n",
    "    cv2.imwrite(join(bi_data_dir, target_path), tar_bi)"
   ]
  },
  {
   "cell_type": "markdown",
   "metadata": {},
   "source": [
    "# Test the ImagePairDataset implementation"
   ]
  },
  {
   "cell_type": "code",
   "execution_count": 2,
   "metadata": {},
   "outputs": [],
   "source": [
    "from image_dataset import *\n",
    "import skimage"
   ]
  },
  {
   "cell_type": "code",
   "execution_count": 82,
   "metadata": {},
   "outputs": [],
   "source": [
    "data_dirs = ['/home/ubuntu/projects/data/deepsolar2/cleaned/LR_0_binary/test',\n",
    "            '/home/ubuntu/projects/data/deepsolar2/cleaned/LR_1_binary/test',\n",
    "            '/home/ubuntu/projects/data/deepsolar2/cleaned/LR_2_binary/test']\n",
    "reference_mapping_paths = ['/home/ubuntu/projects/data_preparation/reference_mapping/reference_mapping_LR_0.pickle',\n",
    "                          '/home/ubuntu/projects/data_preparation/reference_mapping/reference_mapping_LR_1_single.pickle',\n",
    "                          '/home/ubuntu/projects/data_preparation/reference_mapping/reference_mapping_LR_2_single.pickle']"
   ]
  },
  {
   "cell_type": "code",
   "execution_count": 83,
   "metadata": {},
   "outputs": [],
   "source": [
    "transform_func = transforms.Compose([                \n",
    "        transforms.Resize((299, 299)),\n",
    "        transforms.ToTensor()])"
   ]
  },
  {
   "cell_type": "code",
   "execution_count": 84,
   "metadata": {},
   "outputs": [],
   "source": [
    "ds = ImagePairDataset(root_dirs=data_dirs, \n",
    "                      reference_mapping_paths=reference_mapping_paths, \n",
    "                      is_train=False, \n",
    "                      binary=True,\n",
    "                      transform = transform_func)"
   ]
  },
  {
   "cell_type": "code",
   "execution_count": 85,
   "metadata": {},
   "outputs": [
    {
     "data": {
      "text/plain": [
       "3588"
      ]
     },
     "execution_count": 85,
     "metadata": {},
     "output_type": "execute_result"
    }
   ],
   "source": [
    "len(ds)"
   ]
  },
  {
   "cell_type": "code",
   "execution_count": 127,
   "metadata": {},
   "outputs": [
    {
     "data": {
      "text/plain": [
       "<matplotlib.image.AxesImage at 0x7fbfd77a9cc0>"
      ]
     },
     "execution_count": 127,
     "metadata": {},
     "output_type": "execute_result"
    },
    {
     "data": {
      "image/png": "[encoded data removed]",
      "text/plain": [
       "<Figure size 432x288 with 1 Axes>"
      ]
     },
     "metadata": {},
     "output_type": "display_data"
    }
   ],
   "source": [
    "skimage.io.imshow(ds[1000][0].numpy()[0])"
   ]
  },
  {
   "cell_type": "code",
   "execution_count": 128,
   "metadata": {},
   "outputs": [
    {
     "data": {
      "text/plain": [
       "<matplotlib.image.AxesImage at 0x7fbfd7748978>"
      ]
     },
     "execution_count": 128,
     "metadata": {},
     "output_type": "execute_result"
    },
    {
     "data": {
      "image/png": "[encoded data removed]",
      "text/plain": [
       "<Figure size 432x288 with 1 Axes>"
      ]
     },
     "metadata": {},
     "output_type": "display_data"
    }
   ],
   "source": [
    "skimage.io.imshow(ds[1000][1].numpy()[0])"
   ]
  },
  {
   "cell_type": "code",
   "execution_count": 130,
   "metadata": {},
   "outputs": [
    {
     "data": {
      "text/plain": [
       "0"
      ]
     },
     "execution_count": 130,
     "metadata": {},
     "output_type": "execute_result"
    }
   ],
   "source": [
    "ds[1000][2]"
   ]
  },
  {
   "cell_type": "code",
   "execution_count": null,
   "metadata": {},
   "outputs": [],
   "source": []
  }
 ],
 "metadata": {
  "kernelspec": {
   "display_name": "Environment (conda_pytorch_p36)",
   "language": "python",
   "name": "conda_pytorch_p36"
  },
  "language_info": {
   "codemirror_mode": {
    "name": "ipython",
    "version": 3
   },
   "file_extension": ".py",
   "mimetype": "text/x-python",
   "name": "python",
   "nbconvert_exporter": "python",
   "pygments_lexer": "ipython3",
   "version": "3.6.5"
  }
 },
 "nbformat": 4,
 "nbformat_minor": 2
}
