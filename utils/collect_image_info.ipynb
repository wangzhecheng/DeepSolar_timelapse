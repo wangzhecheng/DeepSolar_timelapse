{
 "cells": [
  {
   "cell_type": "code",
   "execution_count": 1,
   "metadata": {},
   "outputs": [],
   "source": [
    "import numpy as np\n",
    "import skimage\n",
    "import skimage.io\n",
    "import cv2\n",
    "from os.path import join, exists\n",
    "import pickle\n",
    "import os\n",
    "import math\n",
    "import matplotlib.pyplot as plt\n",
    "import random\n",
    "from tqdm import tqdm"
   ]
  },
  {
   "cell_type": "code",
   "execution_count": 18,
   "metadata": {},
   "outputs": [],
   "source": [
    "%matplotlib inline"
   ]
  },
  {
   "cell_type": "code",
   "execution_count": 2,
   "metadata": {},
   "outputs": [],
   "source": [
    "def img_ssimRecog(img, len_s = 11):\n",
    "    X_org, Y_org = img.shape\n",
    "    res_list = []\n",
    "    for i in range(0, int(X_org), int(X_org / len_s)+3):\n",
    "        for j in range(0, int(Y_org), int(Y_org / len_s)+3):\n",
    "            res_list.append(ssimFunction(img[i:i + len_s, j:j + len_s]))\n",
    "\n",
    "    res_list = np.array(res_list)\n",
    "    res_list_sort = res_list[np.lexsort(-res_list.T)]\n",
    "    res_list = res_list_sort[:, :1]\n",
    "\n",
    "    res = np.mean(res_list[:10])\n",
    "    if res < 0.0:\n",
    "        res = 0.0\n",
    "    return 1 - res"
   ]
  },
  {
   "cell_type": "code",
   "execution_count": 3,
   "metadata": {},
   "outputs": [],
   "source": [
    "def entropyFunc(img):\n",
    "    res = 0\n",
    "    tmp = [0] * 256\n",
    "    img_list = []\n",
    "    for i in range(len(img)):\n",
    "        img_list.extend(map(int, img[i]))\n",
    "    img_list_set = set(img_list)\n",
    "    for i in img_list_set:\n",
    "        tmp[i] = float(img_list.count(i))/ 256\n",
    "\n",
    "    for i in range(len(tmp)):\n",
    "        if (tmp[i] == 0):\n",
    "            res = res\n",
    "        else:\n",
    "            res = float(res - tmp[i] * (math.log(tmp[i]) / math.log(2.0)))\n",
    "    return res"
   ]
  },
  {
   "cell_type": "code",
   "execution_count": 4,
   "metadata": {},
   "outputs": [],
   "source": [
    "def ssimFunction(img):\n",
    "    x, y = img.shape\n",
    "    resEntropy = entropyFunc(img)\n",
    "    TR = cv2.GaussianBlur(img, (5,5),3)\n",
    "    G = cv2.Sobel(img,cv2.CV_16S,2,2)/5\n",
    "    Gr = cv2.Sobel(TR,cv2.CV_16S,2,2)/5\n",
    "    Ux = np.mean(G)\n",
    "    Uy = np.mean(Gr)\n",
    "    Vx = np.var(G)\n",
    "    Vy = np.var(Gr)\n",
    "    Vxy = (1 / (x * y - 1)) * np.sum((G - Ux) * (Gr - Uy))\n",
    "    R = 255\n",
    "    K1 = 0.03\n",
    "    K2 = 0.01\n",
    "    c1 = (K1 * R) ** 2\n",
    "    c2 = (K2 * R) ** 2\n",
    "    # -SSIM\n",
    "    A1 = 2 * Ux * Uy + c1\n",
    "    A2 = 2 * Vxy + c2\n",
    "    B1 = Ux ** 2 + Uy ** 2 + c1\n",
    "    B2 = Vx  + Vy  + c2\n",
    "    SSIM = (A1 * A2) / (B1 * B2)\n",
    "\n",
    "    return SSIM, resEntropy"
   ]
  },
  {
   "cell_type": "code",
   "execution_count": 13,
   "metadata": {},
   "outputs": [],
   "source": [
    "data_dir = '/home/ubuntu/projects/data/deepsolar2/cleaned'"
   ]
  },
  {
   "cell_type": "code",
   "execution_count": 12,
   "metadata": {},
   "outputs": [],
   "source": [
    "# image info dict\n",
    "# key1: folder_idx, keys2: image_file_name, value: [SSIM_score, Laplacian_score, external_source(1: watermark, 0: no_watermark)]\n",
    "image_info_dict = {}\n"
   ]
  },
  {
   "cell_type": "code",
   "execution_count": 23,
   "metadata": {},
   "outputs": [],
   "source": [
    "missing_img_info = {\n",
    "    '6083_48294_2017': ['2007_0.png', '2007_1.png', '2009_0.png', '2009_1.png']\n",
    "}"
   ]
  },
  {
   "cell_type": "code",
   "execution_count": 30,
   "metadata": {
    "scrolled": true
   },
   "outputs": [
    {
     "name": "stderr",
     "output_type": "stream",
     "text": [
      "\n",
      "  0%|          | 0/265 [00:00<?, ?it/s]\u001b[A"
     ]
    },
    {
     "name": "stdout",
     "output_type": "stream",
     "text": [
      "test\n"
     ]
    },
    {
     "name": "stderr",
     "output_type": "stream",
     "text": [
      "\n",
      "  0%|          | 1/265 [00:00<03:22,  1.30it/s]\u001b[A\n",
      "  1%|          | 2/265 [00:01<03:20,  1.31it/s]\u001b[A\n",
      "  1%|          | 3/265 [00:02<03:20,  1.31it/s]\u001b[A\n",
      "  2%|▏         | 4/265 [00:03<03:19,  1.31it/s]\u001b[A\n",
      "  2%|▏         | 5/265 [00:03<03:20,  1.30it/s]\u001b[A\n",
      "  2%|▏         | 6/265 [00:04<03:19,  1.30it/s]\u001b[A\n",
      "  3%|▎         | 7/265 [00:05<03:18,  1.30it/s]\u001b[A\n",
      "  3%|▎         | 8/265 [00:06<03:15,  1.31it/s]\u001b[A\n",
      "  3%|▎         | 9/265 [00:06<03:16,  1.30it/s]\u001b[A\n",
      "  4%|▍         | 10/265 [00:07<03:18,  1.29it/s]\u001b[A\n",
      "  4%|▍         | 11/265 [00:08<03:16,  1.29it/s]\u001b[A\n",
      "  5%|▍         | 12/265 [00:09<03:15,  1.29it/s]\u001b[A\n",
      "  5%|▍         | 13/265 [00:10<03:14,  1.30it/s]\u001b[A\n",
      "  5%|▌         | 14/265 [00:10<03:14,  1.29it/s]\u001b[A\n",
      "  6%|▌         | 15/265 [00:11<03:11,  1.30it/s]\u001b[A\n",
      "  6%|▌         | 16/265 [00:12<03:11,  1.30it/s]\u001b[A\n",
      "  6%|▋         | 17/265 [00:13<03:08,  1.32it/s]\u001b[A\n",
      "  7%|▋         | 18/265 [00:13<03:06,  1.33it/s]\u001b[A\n",
      "  7%|▋         | 19/265 [00:14<03:06,  1.32it/s]\u001b[A\n",
      "  8%|▊         | 20/265 [00:15<03:05,  1.32it/s]\u001b[A\n",
      "  8%|▊         | 21/265 [00:16<03:05,  1.32it/s]\u001b[A\n",
      "  8%|▊         | 22/265 [00:16<03:05,  1.31it/s]\u001b[A\n",
      "  9%|▊         | 23/265 [00:17<03:04,  1.31it/s]\u001b[A\n",
      "  9%|▉         | 24/265 [00:18<03:05,  1.30it/s]\u001b[A\n",
      "  9%|▉         | 25/265 [00:19<03:04,  1.30it/s]\u001b[A\n",
      " 10%|▉         | 26/265 [00:19<03:03,  1.30it/s]\u001b[A\n",
      " 10%|█         | 27/265 [00:20<03:01,  1.31it/s]\u001b[A\n",
      " 11%|█         | 28/265 [00:21<03:02,  1.30it/s]\u001b[A\n",
      " 11%|█         | 29/265 [00:22<03:01,  1.30it/s]\u001b[A\n",
      " 11%|█▏        | 30/265 [00:23<03:01,  1.29it/s]\u001b[A\n",
      " 12%|█▏        | 31/265 [00:23<03:01,  1.29it/s]\u001b[A\n",
      " 12%|█▏        | 32/265 [00:24<03:01,  1.29it/s]\u001b[A\n",
      " 12%|█▏        | 33/265 [00:25<02:59,  1.30it/s]\u001b[A\n",
      " 13%|█▎        | 34/265 [00:26<02:57,  1.30it/s]\u001b[A\n",
      " 13%|█▎        | 35/265 [00:26<02:55,  1.31it/s]\u001b[A\n",
      " 14%|█▎        | 36/265 [00:27<02:55,  1.30it/s]\u001b[A\n",
      " 14%|█▍        | 37/265 [00:28<02:55,  1.30it/s]\u001b[A\n",
      " 14%|█▍        | 38/265 [00:29<02:52,  1.31it/s]\u001b[A\n",
      " 15%|█▍        | 39/265 [00:29<02:51,  1.31it/s]\u001b[A\n",
      " 15%|█▌        | 40/265 [00:30<02:52,  1.30it/s]\u001b[A\n",
      " 15%|█▌        | 41/265 [00:31<02:55,  1.28it/s]\u001b[A\n",
      " 16%|█▌        | 42/265 [00:32<02:54,  1.27it/s]\u001b[A\n",
      " 16%|█▌        | 43/265 [00:33<02:55,  1.27it/s]\u001b[A\n",
      " 17%|█▋        | 44/265 [00:33<02:54,  1.26it/s]\u001b[A\n",
      " 17%|█▋        | 45/265 [00:34<02:53,  1.27it/s]\u001b[A\n",
      " 17%|█▋        | 46/265 [00:35<02:53,  1.26it/s]\u001b[A\n",
      " 18%|█▊        | 47/265 [00:36<02:51,  1.27it/s]\u001b[A\n",
      " 18%|█▊        | 48/265 [00:37<02:48,  1.29it/s]\u001b[A\n",
      " 18%|█▊        | 49/265 [00:37<02:46,  1.30it/s]\u001b[A\n",
      " 19%|█▉        | 50/265 [00:38<02:43,  1.31it/s]\u001b[A\n",
      " 19%|█▉        | 51/265 [00:39<02:44,  1.30it/s]\u001b[A\n",
      " 20%|█▉        | 52/265 [00:40<02:42,  1.31it/s]\u001b[A\n",
      " 20%|██        | 53/265 [00:40<02:40,  1.32it/s]\u001b[A\n",
      " 20%|██        | 54/265 [00:41<02:40,  1.32it/s]\u001b[A\n",
      " 21%|██        | 55/265 [00:42<02:39,  1.32it/s]\u001b[A\n",
      " 21%|██        | 56/265 [00:43<02:37,  1.33it/s]\u001b[A\n",
      " 22%|██▏       | 57/265 [00:43<02:37,  1.32it/s]\u001b[A\n",
      " 22%|██▏       | 58/265 [00:44<02:36,  1.32it/s]\u001b[A\n",
      " 22%|██▏       | 59/265 [00:45<02:35,  1.33it/s]\u001b[A\n",
      " 23%|██▎       | 60/265 [00:46<02:34,  1.33it/s]\u001b[A\n",
      " 23%|██▎       | 61/265 [00:46<02:35,  1.31it/s]\u001b[A\n",
      " 23%|██▎       | 62/265 [00:47<02:33,  1.32it/s]\u001b[A\n",
      " 24%|██▍       | 63/265 [00:48<02:31,  1.33it/s]\u001b[A\n",
      " 24%|██▍       | 64/265 [00:49<02:31,  1.32it/s]\u001b[A\n",
      " 25%|██▍       | 65/265 [00:49<02:32,  1.31it/s]\u001b[A\n",
      " 25%|██▍       | 66/265 [00:50<02:31,  1.31it/s]\u001b[A\n",
      " 25%|██▌       | 67/265 [00:51<02:32,  1.30it/s]\u001b[A\n",
      " 26%|██▌       | 68/265 [00:52<02:31,  1.30it/s]\u001b[A\n",
      " 26%|██▌       | 69/265 [00:52<02:30,  1.31it/s]\u001b[A\n",
      " 26%|██▋       | 70/265 [00:53<02:30,  1.30it/s]\u001b[A\n",
      " 27%|██▋       | 71/265 [00:54<02:30,  1.29it/s]\u001b[A\n",
      " 27%|██▋       | 72/265 [00:55<02:31,  1.28it/s]\u001b[A\n",
      " 28%|██▊       | 73/265 [00:56<02:31,  1.27it/s]\u001b[A\n",
      " 28%|██▊       | 74/265 [00:56<02:31,  1.26it/s]\u001b[A\n",
      " 28%|██▊       | 75/265 [00:57<02:29,  1.27it/s]\u001b[A\n",
      " 29%|██▊       | 76/265 [00:58<02:28,  1.28it/s]\u001b[A\n",
      " 29%|██▉       | 77/265 [00:59<02:25,  1.29it/s]\u001b[A\n",
      " 29%|██▉       | 78/265 [01:00<02:25,  1.29it/s]\u001b[A\n",
      " 30%|██▉       | 79/265 [01:00<02:24,  1.29it/s]\u001b[A\n",
      " 30%|███       | 80/265 [01:01<02:22,  1.30it/s]\u001b[A\n",
      " 31%|███       | 81/265 [01:02<02:22,  1.29it/s]\u001b[A\n",
      " 31%|███       | 82/265 [01:03<02:20,  1.30it/s]\u001b[A\n",
      " 31%|███▏      | 83/265 [01:03<02:18,  1.31it/s]\u001b[A\n",
      " 32%|███▏      | 84/265 [01:04<02:17,  1.32it/s]\u001b[A\n",
      " 32%|███▏      | 85/265 [01:05<02:16,  1.32it/s]\u001b[A\n",
      " 32%|███▏      | 86/265 [01:06<02:15,  1.32it/s]\u001b[A\n",
      " 33%|███▎      | 87/265 [01:06<02:16,  1.31it/s]\u001b[A\n",
      " 33%|███▎      | 88/265 [01:07<02:15,  1.30it/s]\u001b[A\n",
      " 34%|███▎      | 89/265 [01:08<02:15,  1.30it/s]\u001b[A\n",
      " 34%|███▍      | 90/265 [01:09<02:14,  1.30it/s]\u001b[A\n",
      " 34%|███▍      | 91/265 [01:09<02:14,  1.29it/s]\u001b[A\n",
      " 35%|███▍      | 92/265 [01:10<02:14,  1.29it/s]\u001b[A\n",
      " 35%|███▌      | 93/265 [01:11<02:11,  1.30it/s]\u001b[A\n",
      " 35%|███▌      | 94/265 [01:12<02:11,  1.30it/s]\u001b[A\n",
      " 36%|███▌      | 95/265 [01:13<02:09,  1.31it/s]\u001b[A\n",
      " 36%|███▌      | 96/265 [01:13<02:09,  1.30it/s]\u001b[A\n",
      " 37%|███▋      | 97/265 [01:14<02:07,  1.31it/s]\u001b[A\n",
      " 37%|███▋      | 98/265 [01:15<02:08,  1.29it/s]\u001b[A\n",
      " 37%|███▋      | 99/265 [01:16<02:07,  1.30it/s]\u001b[A\n",
      " 38%|███▊      | 100/265 [01:16<02:06,  1.31it/s]\u001b[A\n",
      " 38%|███▊      | 101/265 [01:17<02:06,  1.30it/s]\u001b[A\n",
      " 38%|███▊      | 102/265 [01:18<02:05,  1.30it/s]\u001b[A\n",
      " 39%|███▉      | 103/265 [01:19<02:22,  1.13it/s]\u001b[A\n",
      " 39%|███▉      | 104/265 [01:20<02:31,  1.06it/s]\u001b[A\n",
      " 40%|███▉      | 105/265 [01:21<02:35,  1.03it/s]\u001b[A\n",
      " 40%|████      | 106/265 [01:22<02:27,  1.08it/s]\u001b[A\n",
      " 40%|████      | 107/265 [01:23<02:18,  1.14it/s]\u001b[A\n",
      " 41%|████      | 108/265 [01:24<02:13,  1.18it/s]\u001b[A\n",
      " 41%|████      | 109/265 [01:24<02:08,  1.22it/s]\u001b[A\n",
      " 42%|████▏     | 110/265 [01:25<02:03,  1.26it/s]\u001b[A\n",
      " 42%|████▏     | 111/265 [01:26<01:59,  1.29it/s]\u001b[A\n",
      " 42%|████▏     | 112/265 [01:26<01:56,  1.32it/s]\u001b[A\n",
      " 43%|████▎     | 113/265 [01:27<01:55,  1.32it/s]\u001b[A\n",
      " 43%|████▎     | 114/265 [01:28<01:54,  1.31it/s]\u001b[A\n",
      " 43%|████▎     | 115/265 [01:29<01:54,  1.31it/s]\u001b[A\n",
      " 44%|████▍     | 116/265 [01:30<01:53,  1.32it/s]\u001b[A\n",
      " 44%|████▍     | 117/265 [01:30<01:51,  1.33it/s]\u001b[A\n",
      " 45%|████▍     | 118/265 [01:31<01:50,  1.33it/s]\u001b[A\n",
      " 45%|████▍     | 119/265 [01:32<01:50,  1.32it/s]\u001b[A\n",
      " 45%|████▌     | 120/265 [01:33<01:50,  1.31it/s]\u001b[A\n",
      " 46%|████▌     | 121/265 [01:33<01:50,  1.30it/s]\u001b[A\n",
      " 46%|████▌     | 122/265 [01:34<01:49,  1.31it/s]\u001b[A\n",
      " 46%|████▋     | 123/265 [01:35<01:49,  1.30it/s]\u001b[A\n",
      " 47%|████▋     | 124/265 [01:36<01:47,  1.31it/s]\u001b[A\n",
      " 47%|████▋     | 125/265 [01:36<01:45,  1.32it/s]\u001b[A\n",
      " 48%|████▊     | 126/265 [01:37<01:45,  1.32it/s]\u001b[A\n",
      " 48%|████▊     | 127/265 [01:38<01:43,  1.33it/s]\u001b[A\n",
      " 48%|████▊     | 128/265 [01:39<01:44,  1.32it/s]\u001b[A\n",
      " 49%|████▊     | 129/265 [01:39<01:44,  1.30it/s]\u001b[A\n",
      " 49%|████▉     | 130/265 [01:40<01:42,  1.32it/s]\u001b[A\n",
      " 49%|████▉     | 131/265 [01:41<01:41,  1.32it/s]\u001b[A\n",
      " 50%|████▉     | 132/265 [01:42<01:41,  1.32it/s]\u001b[A\n",
      " 50%|█████     | 133/265 [01:42<01:40,  1.32it/s]\u001b[A\n",
      " 51%|█████     | 134/265 [01:43<01:40,  1.31it/s]\u001b[A\n",
      " 51%|█████     | 135/265 [01:44<01:38,  1.32it/s]\u001b[A\n",
      " 51%|█████▏    | 136/265 [01:45<01:37,  1.33it/s]\u001b[A\n",
      " 52%|█████▏    | 137/265 [01:45<01:36,  1.32it/s]\u001b[A\n",
      " 52%|█████▏    | 138/265 [01:46<01:35,  1.33it/s]\u001b[A\n",
      " 52%|█████▏    | 139/265 [01:47<01:35,  1.31it/s]\u001b[A\n",
      " 53%|█████▎    | 140/265 [01:48<01:35,  1.31it/s]\u001b[A\n",
      " 53%|█████▎    | 141/265 [01:49<01:35,  1.29it/s]\u001b[A\n",
      " 54%|█████▎    | 142/265 [01:49<01:35,  1.29it/s]\u001b[A\n",
      " 54%|█████▍    | 143/265 [01:50<01:33,  1.30it/s]\u001b[A\n",
      " 54%|█████▍    | 144/265 [01:51<01:31,  1.32it/s]\u001b[A\n",
      " 55%|█████▍    | 145/265 [01:52<01:30,  1.32it/s]\u001b[A\n",
      " 55%|█████▌    | 146/265 [01:52<01:30,  1.32it/s]\u001b[A\n",
      " 55%|█████▌    | 147/265 [01:53<01:29,  1.32it/s]\u001b[A\n",
      " 56%|█████▌    | 148/265 [01:54<01:28,  1.33it/s]\u001b[A\n",
      " 56%|█████▌    | 149/265 [01:55<01:26,  1.34it/s]\u001b[A\n",
      " 57%|█████▋    | 150/265 [01:55<01:26,  1.33it/s]\u001b[A\n",
      " 57%|█████▋    | 151/265 [01:56<01:26,  1.32it/s]\u001b[A\n",
      " 57%|█████▋    | 152/265 [01:57<01:25,  1.32it/s]\u001b[A\n",
      " 58%|█████▊    | 153/265 [01:58<01:24,  1.32it/s]\u001b[A\n",
      " 58%|█████▊    | 154/265 [01:58<01:24,  1.31it/s]\u001b[A\n",
      " 58%|█████▊    | 155/265 [01:59<01:23,  1.32it/s]\u001b[A\n",
      " 59%|█████▉    | 156/265 [02:00<01:23,  1.31it/s]\u001b[A\n"
     ]
    },
    {
     "name": "stderr",
     "output_type": "stream",
     "text": [
      " 59%|█████▉    | 157/265 [02:01<01:21,  1.32it/s]\u001b[A\n",
      " 60%|█████▉    | 158/265 [02:01<01:20,  1.32it/s]\u001b[A\n",
      " 60%|██████    | 159/265 [02:02<01:20,  1.31it/s]\u001b[A\n",
      " 60%|██████    | 160/265 [02:03<01:20,  1.30it/s]\u001b[A\n",
      " 61%|██████    | 161/265 [02:04<01:20,  1.29it/s]\u001b[A\n",
      " 61%|██████    | 162/265 [02:05<01:19,  1.30it/s]\u001b[A\n",
      " 62%|██████▏   | 163/265 [02:05<01:17,  1.32it/s]\u001b[A\n",
      " 62%|██████▏   | 164/265 [02:06<01:17,  1.31it/s]\u001b[A\n",
      " 62%|██████▏   | 165/265 [02:07<01:16,  1.31it/s]\u001b[A\n",
      " 63%|██████▎   | 166/265 [02:08<01:15,  1.31it/s]\u001b[A\n",
      " 63%|██████▎   | 167/265 [02:08<01:14,  1.32it/s]\u001b[A\n",
      " 63%|██████▎   | 168/265 [02:09<01:13,  1.31it/s]\u001b[A\n",
      " 64%|██████▍   | 169/265 [02:10<01:12,  1.32it/s]\u001b[A\n",
      " 64%|██████▍   | 170/265 [02:11<01:12,  1.31it/s]\u001b[A\n",
      " 65%|██████▍   | 171/265 [02:11<01:12,  1.30it/s]\u001b[A\n",
      " 65%|██████▍   | 172/265 [02:12<01:12,  1.29it/s]\u001b[A\n",
      " 65%|██████▌   | 173/265 [02:13<01:11,  1.29it/s]\u001b[A\n",
      " 66%|██████▌   | 174/265 [02:14<01:10,  1.30it/s]\u001b[A\n",
      " 66%|██████▌   | 175/265 [02:14<01:08,  1.31it/s]\u001b[A\n",
      " 66%|██████▋   | 176/265 [02:15<01:07,  1.32it/s]\u001b[A\n",
      " 67%|██████▋   | 177/265 [02:16<01:06,  1.32it/s]\u001b[A\n",
      " 67%|██████▋   | 178/265 [02:17<01:05,  1.32it/s]\u001b[A\n",
      " 68%|██████▊   | 179/265 [02:17<01:05,  1.31it/s]\u001b[A\n",
      " 68%|██████▊   | 180/265 [02:18<01:04,  1.31it/s]\u001b[A\n",
      " 68%|██████▊   | 181/265 [02:19<01:03,  1.31it/s]\u001b[A\n",
      " 69%|██████▊   | 182/265 [02:20<01:03,  1.32it/s]\u001b[A\n",
      " 69%|██████▉   | 183/265 [02:21<01:02,  1.31it/s]\u001b[A\n",
      " 69%|██████▉   | 184/265 [02:21<01:01,  1.32it/s]\u001b[A\n",
      " 70%|██████▉   | 185/265 [02:22<01:00,  1.31it/s]\u001b[A\n",
      " 70%|███████   | 186/265 [02:23<01:00,  1.31it/s]\u001b[A\n",
      " 71%|███████   | 187/265 [02:24<01:00,  1.30it/s]\u001b[A\n",
      " 71%|███████   | 188/265 [02:24<00:59,  1.30it/s]\u001b[A\n",
      " 71%|███████▏  | 189/265 [02:25<00:59,  1.29it/s]\u001b[A\n",
      " 72%|███████▏  | 190/265 [02:26<00:58,  1.29it/s]\u001b[A\n",
      " 72%|███████▏  | 191/265 [02:27<00:57,  1.29it/s]\u001b[A\n",
      " 72%|███████▏  | 192/265 [02:28<00:57,  1.27it/s]\u001b[A\n",
      " 73%|███████▎  | 193/265 [02:28<00:57,  1.26it/s]\u001b[A\n",
      " 73%|███████▎  | 194/265 [02:29<00:55,  1.27it/s]\u001b[A\n",
      " 74%|███████▎  | 195/265 [02:30<00:55,  1.26it/s]\u001b[A\n",
      " 74%|███████▍  | 196/265 [02:31<00:54,  1.27it/s]\u001b[A\n",
      " 74%|███████▍  | 197/265 [02:31<00:53,  1.27it/s]\u001b[A\n",
      " 75%|███████▍  | 198/265 [02:32<00:51,  1.30it/s]\u001b[A\n",
      " 75%|███████▌  | 199/265 [02:33<00:49,  1.33it/s]\u001b[A\n",
      " 75%|███████▌  | 200/265 [02:34<00:49,  1.32it/s]\u001b[A\n",
      " 76%|███████▌  | 201/265 [02:34<00:48,  1.31it/s]\u001b[A\n",
      " 76%|███████▌  | 202/265 [02:35<00:48,  1.31it/s]\u001b[A\n",
      " 77%|███████▋  | 203/265 [02:36<00:47,  1.31it/s]\u001b[A\n",
      " 77%|███████▋  | 204/265 [02:37<00:46,  1.31it/s]\u001b[A\n",
      " 77%|███████▋  | 205/265 [02:38<00:45,  1.31it/s]\u001b[A\n",
      " 78%|███████▊  | 206/265 [02:38<00:45,  1.30it/s]\u001b[A\n",
      " 78%|███████▊  | 207/265 [02:39<00:44,  1.31it/s]\u001b[A\n",
      " 78%|███████▊  | 208/265 [02:40<00:43,  1.30it/s]\u001b[A\n",
      " 79%|███████▉  | 209/265 [02:41<00:42,  1.31it/s]\u001b[A\n",
      " 79%|███████▉  | 210/265 [02:41<00:42,  1.31it/s]\u001b[A\n",
      " 80%|███████▉  | 211/265 [02:42<00:40,  1.32it/s]\u001b[A\n",
      " 80%|████████  | 212/265 [02:43<00:40,  1.31it/s]\u001b[A\n",
      " 80%|████████  | 213/265 [02:44<00:40,  1.30it/s]\u001b[A\n",
      " 81%|████████  | 214/265 [02:44<00:38,  1.31it/s]\u001b[A\n",
      " 81%|████████  | 215/265 [02:45<00:37,  1.32it/s]\u001b[A\n",
      " 82%|████████▏ | 216/265 [02:46<00:37,  1.31it/s]\u001b[A\n",
      " 82%|████████▏ | 217/265 [02:47<00:36,  1.32it/s]\u001b[A\n",
      " 82%|████████▏ | 218/265 [02:47<00:36,  1.30it/s]\u001b[A\n",
      " 83%|████████▎ | 219/265 [02:48<00:35,  1.31it/s]\u001b[A\n",
      " 83%|████████▎ | 220/265 [02:49<00:34,  1.31it/s]\u001b[A\n",
      " 83%|████████▎ | 221/265 [02:50<00:33,  1.32it/s]\u001b[A\n",
      " 84%|████████▍ | 222/265 [02:50<00:32,  1.32it/s]\u001b[A\n",
      " 84%|████████▍ | 223/265 [02:51<00:31,  1.32it/s]\u001b[A\n",
      " 85%|████████▍ | 224/265 [02:52<00:31,  1.31it/s]\u001b[A\n",
      " 85%|████████▍ | 225/265 [02:53<00:30,  1.31it/s]\u001b[A\n",
      " 85%|████████▌ | 226/265 [02:54<00:30,  1.30it/s]\u001b[A\n",
      " 86%|████████▌ | 227/265 [02:54<00:29,  1.31it/s]\u001b[A\n",
      " 86%|████████▌ | 228/265 [02:55<00:28,  1.31it/s]\u001b[A\n",
      " 86%|████████▋ | 229/265 [02:56<00:27,  1.30it/s]\u001b[A\n",
      " 87%|████████▋ | 230/265 [02:57<00:27,  1.29it/s]\u001b[A\n",
      " 87%|████████▋ | 231/265 [02:57<00:26,  1.29it/s]\u001b[A\n",
      " 88%|████████▊ | 232/265 [02:58<00:25,  1.29it/s]\u001b[A\n",
      " 88%|████████▊ | 233/265 [02:59<00:24,  1.30it/s]\u001b[A\n",
      " 88%|████████▊ | 234/265 [03:00<00:24,  1.29it/s]\u001b[A\n",
      " 89%|████████▊ | 235/265 [03:01<00:23,  1.28it/s]\u001b[A\n",
      " 89%|████████▉ | 236/265 [03:01<00:22,  1.29it/s]\u001b[A\n",
      " 89%|████████▉ | 237/265 [03:02<00:21,  1.28it/s]\u001b[A\n",
      " 90%|████████▉ | 238/265 [03:03<00:21,  1.29it/s]\u001b[A\n",
      " 90%|█████████ | 239/265 [03:04<00:20,  1.29it/s]\u001b[A\n",
      " 91%|█████████ | 240/265 [03:04<00:19,  1.28it/s]\u001b[A\n",
      " 91%|█████████ | 241/265 [03:05<00:18,  1.29it/s]\u001b[A\n",
      " 91%|█████████▏| 242/265 [03:06<00:17,  1.29it/s]\u001b[A\n",
      " 92%|█████████▏| 243/265 [03:07<00:16,  1.30it/s]\u001b[A\n",
      " 92%|█████████▏| 244/265 [03:07<00:16,  1.31it/s]\u001b[A\n",
      " 92%|█████████▏| 245/265 [03:08<00:15,  1.29it/s]\u001b[A\n",
      " 93%|█████████▎| 246/265 [03:09<00:14,  1.30it/s]\u001b[A\n",
      " 93%|█████████▎| 247/265 [03:10<00:13,  1.30it/s]\u001b[A\n",
      " 94%|█████████▎| 248/265 [03:11<00:13,  1.31it/s]\u001b[A\n",
      " 94%|█████████▍| 249/265 [03:11<00:12,  1.30it/s]\u001b[A\n",
      " 94%|█████████▍| 250/265 [03:12<00:11,  1.30it/s]\u001b[A\n",
      " 95%|█████████▍| 251/265 [03:13<00:10,  1.31it/s]\u001b[A\n",
      " 95%|█████████▌| 252/265 [03:14<00:10,  1.30it/s]\u001b[A\n",
      " 95%|█████████▌| 253/265 [03:14<00:09,  1.30it/s]\u001b[A\n",
      " 96%|█████████▌| 254/265 [03:15<00:08,  1.30it/s]\u001b[A\n",
      " 96%|█████████▌| 255/265 [03:16<00:07,  1.30it/s]\u001b[A\n",
      " 97%|█████████▋| 256/265 [03:17<00:06,  1.31it/s]\u001b[A\n",
      " 97%|█████████▋| 257/265 [03:17<00:06,  1.32it/s]\u001b[A\n",
      " 97%|█████████▋| 258/265 [03:18<00:05,  1.30it/s]\u001b[A\n",
      " 98%|█████████▊| 259/265 [03:19<00:04,  1.29it/s]\u001b[A\n",
      " 98%|█████████▊| 260/265 [03:20<00:03,  1.29it/s]\u001b[A\n",
      " 98%|█████████▊| 261/265 [03:21<00:03,  1.30it/s]\u001b[A\n",
      " 99%|█████████▉| 262/265 [03:21<00:02,  1.30it/s]\u001b[A\n",
      " 99%|█████████▉| 263/265 [03:22<00:01,  1.30it/s]\u001b[A\n",
      "100%|█████████▉| 264/265 [03:23<00:00,  1.30it/s]\u001b[A\n",
      "100%|██████████| 265/265 [03:24<00:00,  1.29it/s]\u001b[A"
     ]
    }
   ],
   "source": [
    "for x in ['test']:\n",
    "    print(x)\n",
    "    image_dir = join(data_dir, 'sequence_0', x)\n",
    "    for folder in tqdm(os.listdir(image_dir)):\n",
    "        county, idx, install_year = folder.split('_')\n",
    "        if exists(join(image_dir, folder, 'img_info.txt')):\n",
    "            with open(join(image_dir, folder, 'img_info.txt'), 'r') as f:\n",
    "                lr_images = f.readlines()\n",
    "            lr_images = set([x[:-1] for x in lr_images])\n",
    "        else:\n",
    "            print(folder)\n",
    "            lr_images = set(missing_img_info[folder])\n",
    "\n",
    "        image_info_dict[idx] = {}\n",
    "        \n",
    "        for f in sorted(os.listdir(join(image_dir, folder))):\n",
    "            if f[-4:] != '.png':\n",
    "                continue\n",
    "            image = cv2.imread(join(image_dir, folder, f))\n",
    "            image = image[50:580, :, :]\n",
    "            img2gray = cv2.cvtColor(image, cv2.COLOR_BGR2GRAY)\n",
    "            score_ssim = img_ssimRecog(img2gray)  # SSIM metrics\n",
    "            score_laplace = cv2.Laplacian(img2gray, cv2.CV_64F).var()  # Laplacian metrics\n",
    "            \n",
    "            if f in lr_images:\n",
    "                external_source = 1\n",
    "            else:\n",
    "                external_source = 0\n",
    "            \n",
    "            image_info_dict[idx][f] = [score_ssim, score_laplace, external_source]"
   ]
  },
  {
   "cell_type": "code",
   "execution_count": 32,
   "metadata": {
    "scrolled": false
   },
   "outputs": [],
   "source": [
    "with open('/home/ubuntu/projects/historical_solar/image_info_dict.pickle', 'wb') as f:\n",
    "    pickle.dump(image_info_dict, f)"
   ]
  },
  {
   "cell_type": "code",
   "execution_count": 33,
   "metadata": {},
   "outputs": [],
   "source": [
    "ssim_list_dict = {0: [], 1: []}\n",
    "lpl_list_dict = {0: [], 1: []}\n",
    "for idx in image_info_dict.keys():\n",
    "    for f in image_info_dict[idx].keys():\n",
    "        ssim, lpl, external_source = image_info_dict[idx][f]\n",
    "        ssim_list_dict[external_source].append(ssim)\n",
    "        lpl_list_dict[external_source].append(lpl)"
   ]
  },
  {
   "cell_type": "code",
   "execution_count": 38,
   "metadata": {},
   "outputs": [
    {
     "data": {
      "text/plain": [
       "(-10, 500)"
      ]
     },
     "execution_count": 38,
     "metadata": {},
     "output_type": "execute_result"
    },
    {
     "data": {
      "image/png": "[encoded data removed]",
      "text/plain": [
       "<Figure size 720x720 with 1 Axes>"
      ]
     },
     "metadata": {},
     "output_type": "display_data"
    }
   ],
   "source": [
    "plt.figure(figsize=(10, 10))\n",
    "plt.scatter(ssim_list_dict[0], lpl_list_dict[0], s=1, color='red')\n",
    "plt.scatter(ssim_list_dict[1], lpl_list_dict[1], s=1, color='blue')\n",
    "plt.ylim(-10, 500)"
   ]
  },
  {
   "cell_type": "code",
   "execution_count": 42,
   "metadata": {},
   "outputs": [
    {
     "data": {
      "image/png": "[encoded data removed]",
      "text/plain": [
       "<Figure size 432x288 with 1 Axes>"
      ]
     },
     "metadata": {},
     "output_type": "display_data"
    }
   ],
   "source": [
    "_ = plt.hist(ssim_list_dict[0], bins=200, color='red', alpha=0.5)\n",
    "_ = plt.hist(ssim_list_dict[1], bins=200, color='blue', alpha=0.5)"
   ]
  },
  {
   "cell_type": "code",
   "execution_count": 45,
   "metadata": {},
   "outputs": [
    {
     "data": {
      "text/plain": [
       "(0, 250)"
      ]
     },
     "execution_count": 45,
     "metadata": {},
     "output_type": "execute_result"
    },
    {
     "data": {
      "image/png": "[encoded data removed]",
      "text/plain": [
       "<Figure size 432x288 with 1 Axes>"
      ]
     },
     "metadata": {},
     "output_type": "display_data"
    }
   ],
   "source": [
    "_ = plt.hist(lpl_list_dict[0], bins=2000, color='red', alpha=0.5)\n",
    "_ = plt.hist(lpl_list_dict[1], bins=2000, color='blue', alpha=0.5)\n",
    "plt.xlim(0, 250)"
   ]
  },
  {
   "cell_type": "code",
   "execution_count": 50,
   "metadata": {},
   "outputs": [
    {
     "data": {
      "text/plain": [
       "(0, 25)"
      ]
     },
     "execution_count": 50,
     "metadata": {},
     "output_type": "execute_result"
    },
    {
     "data": {
      "image/png": "[encoded data removed]",
      "text/plain": [
       "<Figure size 432x288 with 1 Axes>"
      ]
     },
     "metadata": {},
     "output_type": "display_data"
    }
   ],
   "source": [
    "_ = plt.hist(np.array(lpl_list_dict[0]) * np.array(ssim_list_dict[0]), bins=500, color='red', alpha=0.5)\n",
    "_ = plt.hist(np.array(lpl_list_dict[1]) * np.array(ssim_list_dict[1]), bins=500, color='blue', alpha=0.5)\n",
    "plt.xlim(0, 25)"
   ]
  }
 ],
 "metadata": {
  "kernelspec": {
   "display_name": "Environment (conda_pytorch_p36)",
   "language": "python",
   "name": "conda_pytorch_p36"
  },
  "language_info": {
   "codemirror_mode": {
    "name": "ipython",
    "version": 3
   },
   "file_extension": ".py",
   "mimetype": "text/x-python",
   "name": "python",
   "nbconvert_exporter": "python",
   "pygments_lexer": "ipython3",
   "version": "3.6.5"
  }
 },
 "nbformat": 4,
 "nbformat_minor": 2
}
